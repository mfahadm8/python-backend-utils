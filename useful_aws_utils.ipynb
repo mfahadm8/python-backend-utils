{
 "cells": [
  {
   "cell_type": "code",
   "execution_count": 7,
   "metadata": {},
   "outputs": [],
   "source": [
    "import boto3 \n",
    "from boto3.dynamodb.conditions import Key"
   ]
  },
  {
   "cell_type": "markdown",
   "metadata": {},
   "source": [
    "## Boto3 Client vs Resource"
   ]
  },
  {
   "cell_type": "code",
   "execution_count": 1,
   "metadata": {},
   "outputs": [],
   "source": [
    "\n",
    "key='90380C99C548'\n",
    "sort_key=1548325419"
   ]
  },
  {
   "cell_type": "markdown",
   "metadata": {},
   "source": [
    "### Resource"
   ]
  },
  {
   "cell_type": "markdown",
   "metadata": {},
   "source": [
    "marshalling/unmarshalling handled by aws"
   ]
  },
  {
   "cell_type": "code",
   "execution_count": null,
   "metadata": {},
   "outputs": [],
   "source": [
    "dynamo=boto3.resource(\"dynamodb\")\n",
    "key_expression=Key(\"parition_key\").eq(key) & Key(\"sort_key\").gt(sort_key)\n",
    "tableName=dynamo.Table(\"table_name\")\n",
    "query = query = {\"KeyConditionExpression\": key_expression,\"IndexName\":\"test-index\"}\n",
    "obj_list=tableName.query(**query)[\"Items\"][0]"
   ]
  },
  {
   "cell_type": "markdown",
   "metadata": {},
   "source": [
    "### Client"
   ]
  },
  {
   "cell_type": "markdown",
   "metadata": {},
   "source": [
    "marshelling/unmarshalling to be handled by clint"
   ]
  },
  {
   "cell_type": "code",
   "execution_count": 8,
   "metadata": {},
   "outputs": [],
   "source": [
    "dynamo=boto3.client(\"dynamodb\")\n",
    "deviceStateObj=dynamo.get_item(TableName=\"table_name\",Key={\"key\":{\"S\":key}})"
   ]
  },
  {
   "cell_type": "markdown",
   "metadata": {},
   "source": [
    "### Batch Writer"
   ]
  },
  {
   "cell_type": "code",
   "execution_count": null,
   "metadata": {},
   "outputs": [],
   "source": [
    "with table_name.batch_writer(overwrite_by_pkeys=['partition_key', 'sort_key']) as batch:\n",
    "    for item in obj_list:\n",
    "        batch.put_item(Item=item)"
   ]
  },
  {
   "cell_type": "markdown",
   "metadata": {},
   "source": [
    "### Invoke Lambda"
   ]
  },
  {
   "cell_type": "code",
   "execution_count": null,
   "metadata": {},
   "outputs": [],
   "source": [
    "\n",
    "body=\"{\\\"para1\\\":0,\\\"para2\\\":0,\\\"para3\\\":1}\"\n",
    "payload.update({\"body\":body})\n",
    "lambdaClient=boto3.client(\"lambda\")\n",
    "response = lambdaClient.invoke(FunctionName=\"lambda-function-name\", InvocationType=\"Event\", LogType='Tail',\n",
    "                                Payload=json.dumps(payload))"
   ]
  }
 ],
 "metadata": {
  "kernelspec": {
   "display_name": "Python 3.8.10 64-bit",
   "language": "python",
   "name": "python3"
  },
  "language_info": {
   "codemirror_mode": {
    "name": "ipython",
    "version": 3
   },
   "file_extension": ".py",
   "mimetype": "text/x-python",
   "name": "python",
   "nbconvert_exporter": "python",
   "pygments_lexer": "ipython3",
   "version": "3.8.10"
  },
  "orig_nbformat": 4,
  "vscode": {
   "interpreter": {
    "hash": "916dbcbb3f70747c44a77c7bcd40155683ae19c65e1c03b4aa3499c5328201f1"
   }
  }
 },
 "nbformat": 4,
 "nbformat_minor": 2
}
